{
 "cells": [
  {
   "cell_type": "code",
   "execution_count": 58,
   "metadata": {
    "scrolled": true
   },
   "outputs": [
    {
     "ename": "SyntaxError",
     "evalue": "invalid syntax (<ipython-input-58-be58bb5310a5>, line 50)",
     "output_type": "error",
     "traceback": [
      "\u001b[0;36m  File \u001b[0;32m\"<ipython-input-58-be58bb5310a5>\"\u001b[0;36m, line \u001b[0;32m50\u001b[0m\n\u001b[0;31m    elseif representation == 2:\u001b[0m\n\u001b[0m                        ^\u001b[0m\n\u001b[0;31mSyntaxError\u001b[0m\u001b[0;31m:\u001b[0m invalid syntax\n"
     ]
    }
   ],
   "source": [
    "import numpy as np\n",
    "from scipy.misc import imsave as imsave\n",
    "from imageio import imread\n",
    "from skimage.color import rgb2gray\n",
    "import matplotlib.pyplot as plt\n",
    "\n",
    "# 3.1\n",
    "def read_image(filename, representation):\n",
    "    \"\"\"Reads an image from file and returns either an RGB or a Grayscale representation of the image.\n",
    "    Parameters\n",
    "    ----------\n",
    "    arg1 : String\n",
    "        Path to image file.\n",
    "    arg2 : int\n",
    "        Representation : 1 for grayscale, 2 for RGB.\n",
    "\n",
    "    Returns\n",
    "    -------\n",
    "    np.float64 matrix\n",
    "        The image normalized between [0,1] in grayscale or RGB representation.\n",
    "    \"\"\"\n",
    "    \n",
    "    if (representation != 1 and\n",
    "        representation != 2):\n",
    "        raise Exception ('Representation must be 1 or 2.')\n",
    "    im = imread(filename)\n",
    "    im_float = im.astype(np.float64)\n",
    "    im_float /= 255\n",
    "    if (representation == 1):\n",
    "        im_float = rgb2gray (im)\n",
    "    return im_float\n",
    "\n",
    "# 3.2\n",
    "def imdisplay(filename, representation):\n",
    "    \"\"\"Reads an image from file and displays an either RGB or a Grayscale representation of it.\n",
    "    Parameters\n",
    "    ----------\n",
    "    arg1 : String\n",
    "        Path to image file.\n",
    "    arg2 : int\n",
    "        Representation : 1 for grayscale, 2 for RGB.\n",
    "    \"\"\"    \n",
    "    im_float = read_image(filename, representation)\n",
    "    imshow (im_float, representation)\n",
    "\n",
    "def imshow (im_float, representation):\n",
    "    plt.figure()\n",
    "    if representation == 1:\n",
    "        plt.imshow(im_float[:,:,0], cmap=plt.cm.gray)\n",
    "    elif representation == 2:\n",
    "        plt.imshow(im_float)\n",
    "    else:\n",
    "        raise Exception ('Representation must be 1 or 2.')\n",
    "    plt.show()\n",
    "    \n",
    "def rgb2yiq(imRGB):\n",
    "    rgb2yiqMat = np.array([[0.299, 0.587, 0.144],[0.596, -0.275, -0.321],[0.212, -0.523, 0.311]])\n",
    "    imYIQ = np.empty(imRGB.shape)\n",
    "    for i in range (0, 3):\n",
    "        imYIQ[:,:,i] = rgb2yiqMat[i,0] * imRGB[:,:,0] + rgb2yiqMat[i,1] * imRGB[:,:,1] + rgb2yiqMat[i,2] * imRGB[:,:,2]\n",
    "    return imYIQ\n",
    "#def yiq2rgb(imYIQ):\n",
    "    \n",
    "    \n",
    "im = read_image('./Sample-image10-highres.jpg', 2)\n",
    "im_yiq = rgb2yiq (im)\n",
    "#print (im)\n",
    "#print (im_yiq)\n",
    "imshow (im_yiq[:,:,0], 1)\n"
   ]
  },
  {
   "cell_type": "code",
   "execution_count": null,
   "metadata": {},
   "outputs": [],
   "source": []
  }
 ],
 "metadata": {
  "kernelspec": {
   "display_name": "Python 2",
   "language": "python",
   "name": "python2"
  },
  "language_info": {
   "codemirror_mode": {
    "name": "ipython",
    "version": 2
   },
   "file_extension": ".py",
   "mimetype": "text/x-python",
   "name": "python",
   "nbconvert_exporter": "python",
   "pygments_lexer": "ipython2",
   "version": "2.7.12"
  }
 },
 "nbformat": 4,
 "nbformat_minor": 2
}
